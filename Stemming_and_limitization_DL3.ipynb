{
  "nbformat": 4,
  "nbformat_minor": 0,
  "metadata": {
    "colab": {
      "provenance": []
    },
    "kernelspec": {
      "name": "python3",
      "display_name": "Python 3"
    },
    "language_info": {
      "name": "python"
    }
  },
  "cells": [
    {
      "cell_type": "markdown",
      "source": [
        "1. Stemming\n",
        "\n",
        "Definition:\n",
        "Stemming is a rule-based process that chops off prefixes or suffixes from a word to get its root form. It doesn’t care whether the result is an actual valid word.\n",
        "\n",
        "Example:\n",
        "\n",
        "Original Word\tStemmed Form\n",
        "Playing\tPlay\n",
        "Played\tPlay\n",
        "Studies\tStudi\n",
        "Better\tBetter (unchanged sometimes)\n",
        "| Original Word | Stemmed Form                 |\n",
        "| ------------- | ---------------------------- |\n",
        "| Playing       | Play                         |\n",
        "| Played        | Play                         |\n",
        "| Studies       | Studi                        |\n",
        "| Better        | Better (unchanged sometimes) |\n"
      ],
      "metadata": {
        "id": "Hzoj1Xm2w20J"
      }
    },
    {
      "cell_type": "markdown",
      "source": [
        "How it works:\n",
        "\n",
        "Uses simple rules (like removing “ing”, “ed”, “s”, etc.).\n",
        "\n",
        "Fast and lightweight but sometimes inaccurate.\n",
        "\n",
        "Popular Stemming Algorithms:\n",
        "\n",
        "Porter Stemmer (most common)\n",
        "\n",
        "Snowball Stemmer (improved Porter version)\n",
        "\n",
        "Lancaster Stemmer (more aggressive)"
      ],
      "metadata": {
        "id": "mnSAUXenw-ES"
      }
    },
    {
      "cell_type": "markdown",
      "source": [
        "running → run\n",
        "\n",
        "ran → ran\n",
        "\n",
        "runs → run\n",
        "\n",
        "easily → easili\n",
        "\n",
        "fairly → fairli\n"
      ],
      "metadata": {
        "id": "FOMq7OgCxC3N"
      }
    },
    {
      "cell_type": "code",
      "execution_count": 34,
      "metadata": {
        "colab": {
          "base_uri": "https://localhost:8080/",
          "height": 0
        },
        "id": "raPlZ9H1ro24",
        "outputId": "60159fb1-7ace-48f3-ad4d-b7f6785ce33a"
      },
      "outputs": [
        {
          "output_type": "stream",
          "name": "stderr",
          "text": [
            "[nltk_data] Downloading package punkt to /root/nltk_data...\n",
            "[nltk_data]   Package punkt is already up-to-date!\n"
          ]
        },
        {
          "output_type": "execute_result",
          "data": {
            "text/plain": [
              "True"
            ]
          },
          "metadata": {},
          "execution_count": 34
        }
      ],
      "source": [
        "import nltk\n",
        "from nltk.stem import PorterStemmer\n",
        "from nltk.tokenize import word_tokenize\n",
        "\n",
        "# Download punkt if not already installed\n",
        "nltk.download(\"punkt\")"
      ]
    },
    {
      "cell_type": "code",
      "source": [
        "sentence=\"The runner wer running in a race and they ran very fast\""
      ],
      "metadata": {
        "id": "ymqjGVZyuySd"
      },
      "execution_count": 35,
      "outputs": []
    },
    {
      "cell_type": "code",
      "source": [
        "stemmer=PorterStemmer()"
      ],
      "metadata": {
        "id": "NOQDhIPxvLJo"
      },
      "execution_count": 36,
      "outputs": []
    },
    {
      "cell_type": "code",
      "source": [
        "stemmer.stem(\"Hystory\")"
      ],
      "metadata": {
        "colab": {
          "base_uri": "https://localhost:8080/",
          "height": 35
        },
        "id": "xCUI4Mp6vTv-",
        "outputId": "1956511b-1e4c-4018-8796-9ea15f315664"
      },
      "execution_count": 37,
      "outputs": [
        {
          "output_type": "execute_result",
          "data": {
            "text/plain": [
              "'hystori'"
            ],
            "application/vnd.google.colaboratory.intrinsic+json": {
              "type": "string"
            }
          },
          "metadata": {},
          "execution_count": 37
        }
      ]
    },
    {
      "cell_type": "code",
      "source": [
        "import nltk\n",
        "from nltk.stem import PorterStemmer\n",
        "from nltk.tokenize import word_tokenize\n",
        "\n",
        "# Download the correct resource\n",
        "nltk.download(\"punkt\")\n",
        "nltk.download('punkt_tab')\n",
        "\n",
        "\n",
        "# Example usage\n",
        "ps = PorterStemmer()\n",
        "sentence = \"The runners were running quickly and fairly.\"\n",
        "words = word_tokenize(sentence)"
      ],
      "metadata": {
        "colab": {
          "base_uri": "https://localhost:8080/",
          "height": 0
        },
        "id": "DgEPuCQZwEND",
        "outputId": "f5453013-a19f-4a49-cba4-99fdcc5b9b42"
      },
      "execution_count": 38,
      "outputs": [
        {
          "output_type": "stream",
          "name": "stderr",
          "text": [
            "[nltk_data] Downloading package punkt to /root/nltk_data...\n",
            "[nltk_data]   Package punkt is already up-to-date!\n",
            "[nltk_data] Downloading package punkt_tab to /root/nltk_data...\n",
            "[nltk_data]   Package punkt_tab is already up-to-date!\n"
          ]
        }
      ]
    },
    {
      "cell_type": "code",
      "source": [
        "tokens = word_tokenize(sentence)\n",
        "tokens"
      ],
      "metadata": {
        "colab": {
          "base_uri": "https://localhost:8080/",
          "height": 0
        },
        "id": "fG4ggt0pvWXD",
        "outputId": "3bbedef7-4588-4802-da45-7ebabf637e7c"
      },
      "execution_count": 39,
      "outputs": [
        {
          "output_type": "execute_result",
          "data": {
            "text/plain": [
              "['The', 'runners', 'were', 'running', 'quickly', 'and', 'fairly', '.']"
            ]
          },
          "metadata": {},
          "execution_count": 39
        }
      ]
    },
    {
      "cell_type": "code",
      "source": [
        "stemmed_words = [stemmer.stem(word) for word in tokens]"
      ],
      "metadata": {
        "id": "XX8tjUSHwmEe"
      },
      "execution_count": 40,
      "outputs": []
    },
    {
      "cell_type": "code",
      "source": [
        "print(tokens)\n",
        "print(stemmed_words)"
      ],
      "metadata": {
        "colab": {
          "base_uri": "https://localhost:8080/",
          "height": 0
        },
        "id": "KirW6TnKwDXH",
        "outputId": "82cab8f5-029d-42ae-c6a0-81c98ed8ae1f"
      },
      "execution_count": 41,
      "outputs": [
        {
          "output_type": "stream",
          "name": "stdout",
          "text": [
            "['The', 'runners', 'were', 'running', 'quickly', 'and', 'fairly', '.']\n",
            "['the', 'runner', 'were', 'run', 'quickli', 'and', 'fairli', '.']\n"
          ]
        }
      ]
    },
    {
      "cell_type": "markdown",
      "source": [],
      "metadata": {
        "id": "BsLYzHyexMr5"
      }
    },
    {
      "cell_type": "markdown",
      "source": [
        "2. Lemmatization\n",
        "\n",
        "Definition:\n",
        "Lemmatization uses vocabulary and morphological analysis to return the base or dictionary form of a word (called a lemma).\n",
        "Unlike stemming, it ensures the result is a real word.\n",
        "\n",
        "Example:\n",
        "\n",
        "Original Word\tLemma\n",
        "Playing\tPlay\n",
        "Studies\tStudy\n",
        "Better\tGood\n",
        "Running\tRun"
      ],
      "metadata": {
        "id": "Mu119jzpxMZK"
      }
    },
    {
      "cell_type": "markdown",
      "source": [
        "| Original Word | Lemma |\n",
        "| ------------- | ----- |\n",
        "| Playing       | Play  |\n",
        "| Studies       | Study |\n",
        "| Better        | Good  |\n",
        "| Running       | Run   |\n"
      ],
      "metadata": {
        "id": "soW34rW-xP8H"
      }
    },
    {
      "cell_type": "markdown",
      "source": [
        "How it works:\n",
        "\n",
        "Considers the context and part of speech (POS) of the word.\n",
        "\n",
        "Uses a dictionary (like WordNet) to find the correct base form.\n",
        "\n",
        "More accurate but slower than stemming.\n",
        "\n",
        "playing → play\n",
        "\n",
        "studies → study\n",
        "\n",
        "better → good\n",
        "\n",
        "running → run\n"
      ],
      "metadata": {
        "id": "0OAdzTaOxTcC"
      }
    },
    {
      "cell_type": "code",
      "source": [
        "import nltk\n",
        "from nltk.stem import PorterStemmer,WordNetLemmatizer\n",
        "from nltk.tokenize import word_tokenize\n",
        "from nltk.corpus import wordnet\n",
        "\n",
        "nltk.download(\"punkt\")\n",
        "nltk.download(\"wordnet\")"
      ],
      "metadata": {
        "colab": {
          "base_uri": "https://localhost:8080/",
          "height": 0
        },
        "id": "vy8bdNtdv8XQ",
        "outputId": "fa00f2ab-65a0-4f05-88b3-a365edeb56ce"
      },
      "execution_count": 42,
      "outputs": [
        {
          "output_type": "stream",
          "name": "stderr",
          "text": [
            "[nltk_data] Downloading package punkt to /root/nltk_data...\n",
            "[nltk_data]   Package punkt is already up-to-date!\n",
            "[nltk_data] Downloading package wordnet to /root/nltk_data...\n",
            "[nltk_data]   Package wordnet is already up-to-date!\n"
          ]
        },
        {
          "output_type": "execute_result",
          "data": {
            "text/plain": [
              "True"
            ]
          },
          "metadata": {},
          "execution_count": 42
        }
      ]
    },
    {
      "cell_type": "code",
      "source": [
        "lemmetizer=WordNetLemmatizer()"
      ],
      "metadata": {
        "id": "DEIMHq6RwhqA"
      },
      "execution_count": 43,
      "outputs": []
    },
    {
      "cell_type": "code",
      "source": [
        "lemmetized_words = [lemmetizer.lemmatize(word,pos = 'v') for word in tokens]"
      ],
      "metadata": {
        "id": "WfM0g1ygwOH2"
      },
      "execution_count": 44,
      "outputs": []
    },
    {
      "cell_type": "code",
      "source": [
        "print(tokens)\n",
        "#print(stemmed_words)\n",
        "print(lemmetized_words)"
      ],
      "metadata": {
        "colab": {
          "base_uri": "https://localhost:8080/",
          "height": 0
        },
        "id": "ZY_seu50wPE1",
        "outputId": "522068c6-0511-4765-bcf1-db930b9fab18"
      },
      "execution_count": 45,
      "outputs": [
        {
          "output_type": "stream",
          "name": "stdout",
          "text": [
            "['The', 'runners', 'were', 'running', 'quickly', 'and', 'fairly', '.']\n",
            "['The', 'runners', 'be', 'run', 'quickly', 'and', 'fairly', '.']\n"
          ]
        }
      ]
    },
    {
      "cell_type": "code",
      "source": [
        "text = \"<html><body><p> Movie 1</p><p> Actor - Aamir Khan</p><p> Click here to <a href='http://google.com'>download</a></p></body></html>\""
      ],
      "metadata": {
        "id": "ULL8VCpix8kF"
      },
      "execution_count": 46,
      "outputs": []
    },
    {
      "cell_type": "code",
      "source": [
        "from ast import pattern\n",
        "import re\n",
        "def removal_html_tags(text):\n",
        "  pattern=re.compile('<.*?>')\n",
        "  return pattern.sub(r\"\",text)"
      ],
      "metadata": {
        "id": "a0Bx-yUnw0th"
      },
      "execution_count": 47,
      "outputs": []
    },
    {
      "cell_type": "code",
      "source": [
        "removal_html_tags(text)"
      ],
      "metadata": {
        "colab": {
          "base_uri": "https://localhost:8080/",
          "height": 35
        },
        "id": "V_wTjGWZyTeG",
        "outputId": "77b0cefc-b1b7-43bd-b066-c71366eb382b"
      },
      "execution_count": 48,
      "outputs": [
        {
          "output_type": "execute_result",
          "data": {
            "text/plain": [
              "' Movie 1 Actor - Aamir Khan Click here to download'"
            ],
            "application/vnd.google.colaboratory.intrinsic+json": {
              "type": "string"
            }
          },
          "metadata": {},
          "execution_count": 48
        }
      ]
    },
    {
      "cell_type": "code",
      "source": [
        "chat_words = {\n",
        "    'AFAIK':'As Far As I Know',\n",
        "    'AFK':'Away From Keyboard',\n",
        "    'ASAP':'As Soon As Possible',\n",
        "    \"FYI\": \"For Your Information\",\n",
        "    \"ASAP\": \"As Soon As Possible\",\n",
        "    \"BRB\": \"Be Right Back\",\n",
        "    \"BTW\": \"By The Way\",\n",
        "    \"OMG\": \"Oh My God\",\n",
        "    \"IMO\": \"In My Opinion\",\n",
        "    \"LOL\": \"Laugh Out Loud\",\n",
        "    \"TTYL\": \"Talk To You Later\",\n",
        "    \"GTG\": \"Got To Go\",\n",
        "    \"TTYT\": \"Talk To You Tomorrow\",\n",
        "    \"IDK\": \"I Don't Know\",\n",
        "    \"TMI\": \"Too Much Information\",\n",
        "    \"IMHO\": \"In My Humble Opinion\",\n",
        "    \"ICYMI\": \"In Case You Missed It\",\n",
        "    \"AFAIK\": \"As Far As I Know\",\n",
        "    \"BTW\": \"By The Way\",\n",
        "    \"FAQ\": \"Frequently Asked Questions\",\n",
        "    \"TGIF\": \"Thank God It's Friday\",\n",
        "    \"FYA\": \"For Your Action\",\n",
        "    \"ICYMI\": \"In Case You Missed It\",\n",
        "}"
      ],
      "metadata": {
        "id": "6T7SJYLiyVZr"
      },
      "execution_count": 49,
      "outputs": []
    },
    {
      "cell_type": "code",
      "source": [
        "chat_words[\"ASAP\"]"
      ],
      "metadata": {
        "colab": {
          "base_uri": "https://localhost:8080/",
          "height": 35
        },
        "id": "VUxLkc7dzPSM",
        "outputId": "1bc4456f-2d08-47d0-be7e-dda8455fcae5"
      },
      "execution_count": 50,
      "outputs": [
        {
          "output_type": "execute_result",
          "data": {
            "text/plain": [
              "'As Soon As Possible'"
            ],
            "application/vnd.google.colaboratory.intrinsic+json": {
              "type": "string"
            }
          },
          "metadata": {},
          "execution_count": 50
        }
      ]
    },
    {
      "cell_type": "code",
      "source": [
        "def chat_conversion(text):\n",
        "    new_text = []\n",
        "    for w in text.split():\n",
        "        if w.upper() in chat_words:\n",
        "            new_text.append(chat_words[w.upper()])\n",
        "        else:\n",
        "            new_text.append(w)\n",
        "    return \" \".join(new_text)"
      ],
      "metadata": {
        "id": "lDpAhdfGzWVI"
      },
      "execution_count": 51,
      "outputs": []
    },
    {
      "cell_type": "code",
      "source": [
        "chat_conversion(\"go ASAP\")"
      ],
      "metadata": {
        "colab": {
          "base_uri": "https://localhost:8080/",
          "height": 35
        },
        "id": "0AUucdHj0SU8",
        "outputId": "72a0b068-37d5-467b-ad82-cce1dfc3796a"
      },
      "execution_count": 52,
      "outputs": [
        {
          "output_type": "execute_result",
          "data": {
            "text/plain": [
              "'go As Soon As Possible'"
            ],
            "application/vnd.google.colaboratory.intrinsic+json": {
              "type": "string"
            }
          },
          "metadata": {},
          "execution_count": 52
        }
      ]
    },
    {
      "cell_type": "code",
      "source": [],
      "metadata": {
        "id": "vcJ-64Qp0kIR"
      },
      "execution_count": 52,
      "outputs": []
    }
  ]
}
